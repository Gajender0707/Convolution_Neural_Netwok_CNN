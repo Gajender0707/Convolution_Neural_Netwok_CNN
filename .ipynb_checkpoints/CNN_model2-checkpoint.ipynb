{
 "cells": [
  {
   "cell_type": "code",
   "execution_count": 2,
   "id": "2088e3ec",
   "metadata": {},
   "outputs": [],
   "source": [
    "from keras.datasets import fashion_mnist"
   ]
  },
  {
   "cell_type": "code",
   "execution_count": 4,
   "id": "533923f8",
   "metadata": {},
   "outputs": [],
   "source": [
    "(x_train,y_train),(x_test,y_test)=fashion_mnist.load_data()"
   ]
  },
  {
   "cell_type": "code",
   "execution_count": 5,
   "id": "45678fad",
   "metadata": {},
   "outputs": [
    {
     "data": {
      "text/plain": [
       "(60000, 28, 28)"
      ]
     },
     "execution_count": 5,
     "metadata": {},
     "output_type": "execute_result"
    }
   ],
   "source": [
    "x_train.shape"
   ]
  },
  {
   "cell_type": "code",
   "execution_count": 22,
   "id": "1499b919",
   "metadata": {},
   "outputs": [],
   "source": [
    "x_train=x_train.reshape(60000,28,28,1)"
   ]
  },
  {
   "cell_type": "code",
   "execution_count": 23,
   "id": "20d7bf06",
   "metadata": {},
   "outputs": [
    {
     "data": {
      "text/plain": [
       "(10000, 28, 28)"
      ]
     },
     "execution_count": 23,
     "metadata": {},
     "output_type": "execute_result"
    }
   ],
   "source": [
    "x_test.shape"
   ]
  },
  {
   "cell_type": "code",
   "execution_count": 24,
   "id": "c178753f",
   "metadata": {},
   "outputs": [],
   "source": [
    "x_test=x_test.reshape(10000,28,28,1)"
   ]
  },
  {
   "cell_type": "code",
   "execution_count": 25,
   "id": "913bec2d",
   "metadata": {},
   "outputs": [
    {
     "data": {
      "text/plain": [
       "(60000,)"
      ]
     },
     "execution_count": 25,
     "metadata": {},
     "output_type": "execute_result"
    }
   ],
   "source": [
    "y_train.shape"
   ]
  },
  {
   "cell_type": "code",
   "execution_count": 26,
   "id": "ec145533",
   "metadata": {},
   "outputs": [
    {
     "data": {
      "text/plain": [
       "(10000,)"
      ]
     },
     "execution_count": 26,
     "metadata": {},
     "output_type": "execute_result"
    }
   ],
   "source": [
    "y_test.shape"
   ]
  },
  {
   "cell_type": "code",
   "execution_count": 27,
   "id": "693f4074",
   "metadata": {},
   "outputs": [],
   "source": [
    "import numpy as np"
   ]
  },
  {
   "cell_type": "code",
   "execution_count": 28,
   "id": "81a985cc",
   "metadata": {},
   "outputs": [],
   "source": [
    "n=len(np.unique(y_train))"
   ]
  },
  {
   "cell_type": "code",
   "execution_count": 29,
   "id": "ac4e2e23",
   "metadata": {},
   "outputs": [
    {
     "data": {
      "text/plain": [
       "10"
      ]
     },
     "execution_count": 29,
     "metadata": {},
     "output_type": "execute_result"
    }
   ],
   "source": [
    "n"
   ]
  },
  {
   "cell_type": "code",
   "execution_count": 30,
   "id": "4aab0244",
   "metadata": {},
   "outputs": [],
   "source": [
    "import matplotlib.pyplot as plt"
   ]
  },
  {
   "cell_type": "code",
   "execution_count": 31,
   "id": "57da0844",
   "metadata": {},
   "outputs": [],
   "source": [
    "k=x_train[1000]"
   ]
  },
  {
   "cell_type": "code",
   "execution_count": 32,
   "id": "da05d73b",
   "metadata": {},
   "outputs": [
    {
     "data": {
      "text/plain": [
       "(28, 28, 1)"
      ]
     },
     "execution_count": 32,
     "metadata": {},
     "output_type": "execute_result"
    }
   ],
   "source": [
    "k.shape"
   ]
  },
  {
   "cell_type": "code",
   "execution_count": 33,
   "id": "f33cbebd",
   "metadata": {},
   "outputs": [
    {
     "data": {
      "text/plain": [
       "<matplotlib.image.AxesImage at 0x10c986e8cd0>"
      ]
     },
     "execution_count": 33,
     "metadata": {},
     "output_type": "execute_result"
    },
    {
     "data": {
      "image/png": "[encoded data removed]",
      "text/plain": [
       "<Figure size 432x288 with 1 Axes>"
      ]
     },
     "metadata": {
      "needs_background": "light"
     },
     "output_type": "display_data"
    }
   ],
   "source": [
    "plt.imshow(k)"
   ]
  },
  {
   "cell_type": "code",
   "execution_count": null,
   "id": "fa479bb0",
   "metadata": {},
   "outputs": [],
   "source": []
  },
  {
   "cell_type": "code",
   "execution_count": 34,
   "id": "c45aef9c",
   "metadata": {},
   "outputs": [
    {
     "data": {
      "text/plain": [
       "array([  0,   1,   2,   3,   4,   5,   6,   7,   8,   9,  10,  11,  12,\n",
       "        13,  14,  15,  16,  17,  18,  19,  20,  21,  22,  23,  24,  25,\n",
       "        26,  27,  28,  29,  30,  31,  32,  33,  34,  35,  36,  37,  38,\n",
       "        39,  40,  41,  42,  43,  44,  45,  46,  47,  48,  49,  50,  51,\n",
       "        52,  53,  54,  55,  56,  57,  58,  59,  60,  61,  62,  63,  64,\n",
       "        65,  66,  67,  68,  69,  70,  71,  72,  73,  74,  75,  76,  77,\n",
       "        78,  79,  80,  81,  82,  83,  84,  85,  86,  87,  88,  89,  90,\n",
       "        91,  92,  93,  94,  95,  96,  97,  98,  99, 100, 101, 102, 103,\n",
       "       104, 105, 106, 107, 108, 109, 110, 111, 112, 113, 114, 115, 116,\n",
       "       117, 118, 119, 120, 121, 122, 123, 124, 125, 126, 127, 128, 129,\n",
       "       130, 131, 132, 133, 134, 135, 136, 137, 138, 139, 140, 141, 142,\n",
       "       143, 144, 145, 146, 147, 148, 149, 150, 151, 152, 153, 154, 155,\n",
       "       156, 157, 158, 159, 160, 161, 162, 163, 164, 165, 166, 167, 168,\n",
       "       169, 170, 171, 172, 173, 174, 175, 176, 177, 178, 179, 180, 181,\n",
       "       182, 183, 184, 185, 186, 187, 188, 189, 190, 191, 192, 193, 194,\n",
       "       195, 196, 197, 198, 199, 200, 201, 202, 203, 204, 205, 206, 207,\n",
       "       208, 209, 210, 211, 212, 213, 214, 215, 216, 217, 218, 219, 220,\n",
       "       221, 222, 223, 224, 225, 226, 227, 228, 229, 230, 231, 232, 233,\n",
       "       234, 235, 236, 237, 238, 239, 240, 241, 242, 243, 244, 245, 246,\n",
       "       247, 248, 249, 250, 251, 252, 253, 254, 255], dtype=uint8)"
      ]
     },
     "execution_count": 34,
     "metadata": {},
     "output_type": "execute_result"
    }
   ],
   "source": [
    "np.unique(x_train)"
   ]
  },
  {
   "cell_type": "code",
   "execution_count": 35,
   "id": "da6e80ce",
   "metadata": {},
   "outputs": [],
   "source": [
    "import tensorflow as tf\n",
    "from tensorflow.keras.models import Sequential\n",
    "from tensorflow.keras.layers import Dense\n",
    "from tensorflow.keras.optimizers import Adagrad\n",
    "from tensorflow.keras.optimizers import Adam\n",
    "from tensorflow.keras.optimizers import RMSprop\n",
    "from sklearn.model_selection import cross_val_score\n",
    "from sklearn.model_selection import KFold\n",
    "from tensorflow.keras.utils import to_categorical\n",
    "from tensorflow.keras.layers import Dropout\n",
    "from tensorflow.keras.layers import BatchNormalization\n",
    "from keras.models import Sequential\n",
    "from keras.layers import Conv2D, MaxPool2D, Dense, Flatten, Dropout"
   ]
  },
  {
   "cell_type": "code",
   "execution_count": 49,
   "id": "93563a62",
   "metadata": {},
   "outputs": [],
   "source": [
    "def baseline_model():\n",
    "    model=Sequential()\n",
    "    model.add(Conv2D(filters=32,kernel_size=(5,5),padding=\"same\",strides=(2,2),activation=\"relu\",\n",
    "                     kernel_initializer=\"he_uniform\",input_shape=(28,28,1)))\n",
    "    model.add(MaxPool2D(2,2))\n",
    "    model.add(Dropout(0.2))\n",
    "    model.add(Conv2D(filters=16,kernel_size=(5,5),padding=\"same\",strides=(2,2),activation=\"relu\",\n",
    "                     kernel_initializer=\"he_uniform\"))\n",
    "    model.add(MaxPool2D(2,2))\n",
    "    model.add(Dropout(0.2))\n",
    "    model.add(Flatten())\n",
    "    model.add(Dense(32,activation=\"relu\",kernel_initializer=\"he_uniform\",))\n",
    "    model.add(Dropout(0.2))\n",
    "    model.add(Dense(16,activation=\"relu\",kernel_initializer=\"he_uniform\"))\n",
    "    model.add(Dropout(0.2))\n",
    "    model.add(Dense(n,activation=\"softmax\"))\n",
    "    opt=Adam(learning_rate=0.001)\n",
    "    model.compile(loss=\"categorical_crossentropy\",optimizer=opt,metrics=[\"accuracy\"])\n",
    "    return model\n",
    "    \n",
    "              \n",
    "              \n",
    "    "
   ]
  },
  {
   "cell_type": "code",
   "execution_count": 50,
   "id": "4c6acc05",
   "metadata": {},
   "outputs": [],
   "source": [
    "model=baseline_model()"
   ]
  },
  {
   "cell_type": "code",
   "execution_count": 51,
   "id": "e8ef1859",
   "metadata": {},
   "outputs": [],
   "source": [
    "y_train=to_categorical(y_train)\n",
    "y_test=to_categorical(y_test)"
   ]
  },
  {
   "cell_type": "code",
   "execution_count": 52,
   "id": "492386ab",
   "metadata": {},
   "outputs": [
    {
     "data": {
      "text/plain": [
       "(60000, 10)"
      ]
     },
     "execution_count": 52,
     "metadata": {},
     "output_type": "execute_result"
    }
   ],
   "source": [
    "y_train.shape"
   ]
  },
  {
   "cell_type": "code",
   "execution_count": 53,
   "id": "2e735025",
   "metadata": {},
   "outputs": [
    {
     "data": {
      "text/plain": [
       "(10000, 10)"
      ]
     },
     "execution_count": 53,
     "metadata": {},
     "output_type": "execute_result"
    }
   ],
   "source": [
    "y_test.shape"
   ]
  },
  {
   "cell_type": "code",
   "execution_count": 54,
   "id": "43cb6ff6",
   "metadata": {},
   "outputs": [
    {
     "data": {
      "text/plain": [
       "array([[0., 0., 0., ..., 0., 0., 1.],\n",
       "       [1., 0., 0., ..., 0., 0., 0.],\n",
       "       [1., 0., 0., ..., 0., 0., 0.],\n",
       "       ...,\n",
       "       [0., 0., 0., ..., 0., 0., 0.],\n",
       "       [1., 0., 0., ..., 0., 0., 0.],\n",
       "       [0., 0., 0., ..., 0., 0., 0.]], dtype=float32)"
      ]
     },
     "execution_count": 54,
     "metadata": {},
     "output_type": "execute_result"
    }
   ],
   "source": [
    "y_train"
   ]
  },
  {
   "cell_type": "code",
   "execution_count": 68,
   "id": "bc92fc88",
   "metadata": {},
   "outputs": [
    {
     "name": "stdout",
     "output_type": "stream",
     "text": [
      "Epoch 1/30\n",
      "938/938 [==============================] - 20s 21ms/step - loss: 0.7156 - accuracy: 0.7327 - val_loss: 0.5937 - val_accuracy: 0.7702\n",
      "Epoch 2/30\n",
      "938/938 [==============================] - 20s 21ms/step - loss: 0.7088 - accuracy: 0.7361 - val_loss: 0.5756 - val_accuracy: 0.7842\n",
      "Epoch 3/30\n",
      "938/938 [==============================] - 20s 21ms/step - loss: 0.6944 - accuracy: 0.7430 - val_loss: 0.5683 - val_accuracy: 0.7859\n",
      "Epoch 4/30\n",
      "938/938 [==============================] - 20s 21ms/step - loss: 0.6855 - accuracy: 0.7461 - val_loss: 0.5619 - val_accuracy: 0.7901\n",
      "Epoch 5/30\n",
      "938/938 [==============================] - 20s 21ms/step - loss: 0.6677 - accuracy: 0.7527 - val_loss: 0.5447 - val_accuracy: 0.7932\n",
      "Epoch 6/30\n",
      "938/938 [==============================] - 20s 21ms/step - loss: 0.6538 - accuracy: 0.7564 - val_loss: 0.5270 - val_accuracy: 0.8027\n",
      "Epoch 7/30\n",
      "938/938 [==============================] - 20s 21ms/step - loss: 0.6402 - accuracy: 0.7609 - val_loss: 0.5306 - val_accuracy: 0.7993\n",
      "Epoch 8/30\n",
      "938/938 [==============================] - 20s 21ms/step - loss: 0.6328 - accuracy: 0.7620 - val_loss: 0.5150 - val_accuracy: 0.8017\n",
      "Epoch 9/30\n",
      "938/938 [==============================] - 20s 21ms/step - loss: 0.6256 - accuracy: 0.7664 - val_loss: 0.5098 - val_accuracy: 0.8085\n",
      "Epoch 10/30\n",
      "938/938 [==============================] - 20s 21ms/step - loss: 0.6137 - accuracy: 0.7716 - val_loss: 0.5057 - val_accuracy: 0.8134\n",
      "Epoch 11/30\n",
      "938/938 [==============================] - 20s 21ms/step - loss: 0.6088 - accuracy: 0.7768 - val_loss: 0.4925 - val_accuracy: 0.8196\n",
      "Epoch 12/30\n",
      "938/938 [==============================] - 20s 21ms/step - loss: 0.6114 - accuracy: 0.7736 - val_loss: 0.4916 - val_accuracy: 0.8243\n",
      "Epoch 13/30\n",
      "938/938 [==============================] - 20s 21ms/step - loss: 0.6071 - accuracy: 0.7786 - val_loss: 0.4991 - val_accuracy: 0.8152\n",
      "Epoch 14/30\n",
      "938/938 [==============================] - 20s 21ms/step - loss: 0.5974 - accuracy: 0.7828 - val_loss: 0.4846 - val_accuracy: 0.8269\n",
      "Epoch 15/30\n",
      "938/938 [==============================] - 20s 21ms/step - loss: 0.5930 - accuracy: 0.7824 - val_loss: 0.4900 - val_accuracy: 0.8171\n",
      "Epoch 16/30\n",
      "938/938 [==============================] - 20s 21ms/step - loss: 0.5903 - accuracy: 0.7861 - val_loss: 0.4714 - val_accuracy: 0.8300\n",
      "Epoch 17/30\n",
      "938/938 [==============================] - 20s 21ms/step - loss: 0.5836 - accuracy: 0.7850 - val_loss: 0.4762 - val_accuracy: 0.8175\n",
      "Epoch 18/30\n",
      "938/938 [==============================] - 20s 21ms/step - loss: 0.5777 - accuracy: 0.7896 - val_loss: 0.4681 - val_accuracy: 0.8234\n",
      "Epoch 19/30\n",
      "938/938 [==============================] - 20s 21ms/step - loss: 0.5754 - accuracy: 0.7912 - val_loss: 0.4608 - val_accuracy: 0.8354\n",
      "Epoch 20/30\n",
      "938/938 [==============================] - 20s 21ms/step - loss: 0.5736 - accuracy: 0.7929 - val_loss: 0.4561 - val_accuracy: 0.8303\n",
      "Epoch 21/30\n",
      "938/938 [==============================] - 20s 21ms/step - loss: 0.5694 - accuracy: 0.7960 - val_loss: 0.4577 - val_accuracy: 0.8347\n",
      "Epoch 22/30\n",
      "938/938 [==============================] - 20s 21ms/step - loss: 0.5656 - accuracy: 0.7941 - val_loss: 0.4550 - val_accuracy: 0.8376\n",
      "Epoch 23/30\n",
      "938/938 [==============================] - 20s 21ms/step - loss: 0.5599 - accuracy: 0.7983 - val_loss: 0.4533 - val_accuracy: 0.8398\n",
      "Epoch 24/30\n",
      "938/938 [==============================] - 20s 21ms/step - loss: 0.5537 - accuracy: 0.7987 - val_loss: 0.4529 - val_accuracy: 0.8381\n",
      "Epoch 25/30\n",
      "938/938 [==============================] - 20s 21ms/step - loss: 0.5526 - accuracy: 0.8026 - val_loss: 0.4421 - val_accuracy: 0.8442\n",
      "Epoch 26/30\n",
      "938/938 [==============================] - 20s 21ms/step - loss: 0.5463 - accuracy: 0.8030 - val_loss: 0.4479 - val_accuracy: 0.8397\n",
      "Epoch 27/30\n",
      "938/938 [==============================] - 20s 21ms/step - loss: 0.5424 - accuracy: 0.8041 - val_loss: 0.4461 - val_accuracy: 0.8441\n",
      "Epoch 28/30\n",
      "938/938 [==============================] - 20s 21ms/step - loss: 0.5433 - accuracy: 0.8030 - val_loss: 0.4378 - val_accuracy: 0.8435\n",
      "Epoch 29/30\n",
      "938/938 [==============================] - 20s 21ms/step - loss: 0.5415 - accuracy: 0.8053 - val_loss: 0.4367 - val_accuracy: 0.8412\n",
      "Epoch 30/30\n",
      "938/938 [==============================] - 20s 21ms/step - loss: 0.5340 - accuracy: 0.8082 - val_loss: 0.4320 - val_accuracy: 0.8438\n"
     ]
    }
   ],
   "source": [
    "history=model.fit(x_train,y_train,verbose=1,epochs=30,batch_size=64,validation_data=(x_test,y_test))"
   ]
  },
  {
   "cell_type": "code",
   "execution_count": 69,
   "id": "3ac40107",
   "metadata": {},
   "outputs": [],
   "source": [
    "# model.predict_classes(k)"
   ]
  },
  {
   "cell_type": "code",
   "execution_count": 70,
   "id": "cad792c0",
   "metadata": {},
   "outputs": [
    {
     "data": {
      "text/plain": [
       "<matplotlib.legend.Legend at 0x10c9faea670>"
      ]
     },
     "execution_count": 70,
     "metadata": {},
     "output_type": "execute_result"
    },
    {
     "data": {
      "image/png": "[encoded data removed]",
      "text/plain": [
       "<Figure size 432x288 with 1 Axes>"
      ]
     },
     "metadata": {
      "needs_background": "light"
     },
     "output_type": "display_data"
    }
   ],
   "source": [
    "plt.plot(history.history[\"loss\"],label=\"training loss\",color=\"green\")\n",
    "plt.plot(history.history[\"val_loss\"],label=\"test loss\",color=\"red\")\n",
    "plt.xlabel(\"number of epochs\")\n",
    "plt.ylabel(\"loss\")\n",
    "plt.legend()"
   ]
  },
  {
   "cell_type": "code",
   "execution_count": null,
   "id": "a695405f",
   "metadata": {},
   "outputs": [],
   "source": []
  }
 ],
 "metadata": {
  "kernelspec": {
   "display_name": "Python 3 (ipykernel)",
   "language": "python",
   "name": "python3"
  },
  "language_info": {
   "codemirror_mode": {
    "name": "ipython",
    "version": 3
   },
   "file_extension": ".py",
   "mimetype": "text/x-python",
   "name": "python",
   "nbconvert_exporter": "python",
   "pygments_lexer": "ipython3",
   "version": "3.9.4"
  }
 },
 "nbformat": 4,
 "nbformat_minor": 5
}
